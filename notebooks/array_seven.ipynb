{
 "cells": [
  {
   "cell_type": "code",
   "execution_count": null,
   "id": "2196a47a-69e9-4b94-ac86-1374dc178ef9",
   "metadata": {},
   "outputs": [],
   "source": [
    "from ctypes import cdll, c_size_t, c_double, POINTER\n",
    "from numpy.ctypeslib import ndpointer, as_ctypes\n",
    "import numpy as np\n",
    "from typing import Optional\n",
    "\n",
    "my_lib = cdll.LoadLibrary(\"/path/to/array_seven.so\")"
   ]
  },
  {
   "cell_type": "code",
   "execution_count": null,
   "id": "8b9aae1f-e9dc-4595-a5af-be04a87fbc13",
   "metadata": {},
   "outputs": [],
   "source": [
    "add_seven = my_lib.add_seven\n",
    "add_seven.restype = None\n",
    "add_seven.argtypes = [c_size_t, ndpointer(c_double, flags=\"C_CONTIGUOUS\"), ndpointer(c_double, flags=\"C_CONTIGUOUS\")]"
   ]
  },
  {
   "cell_type": "code",
   "execution_count": null,
   "id": "61337d9f-973a-4477-bb6a-1a3729c69753",
   "metadata": {},
   "outputs": [],
   "source": [
    "array_length = 20;\n",
    "input_array = np.linspace(-0.5, 0.5, array_length)\n",
    "output_array = np.zeros_like(input_array)"
   ]
  },
  {
   "cell_type": "code",
   "execution_count": null,
   "id": "989dcb90-692a-4024-9bd6-567ced59127e",
   "metadata": {},
   "outputs": [],
   "source": [
    "add_seven(array_length, input_array, output_array)"
   ]
  },
  {
   "cell_type": "code",
   "execution_count": null,
   "id": "b8d10c1a-e847-4c19-a4cc-4aede570ae30",
   "metadata": {},
   "outputs": [],
   "source": [
    "output_array"
   ]
  },
  {
   "cell_type": "code",
   "execution_count": null,
   "id": "4a523c23-b715-4035-b42f-dde34f38f81a",
   "metadata": {},
   "outputs": [],
   "source": [
    "#ifndef CXX_LIBRARY_TESTS_ARRAY_SEVEN_H\n",
    "#define CXX_LIBRARY_TESTS_ARRAY_SEVEN_H\n",
    "\n",
    "#include <cstddef>\n",
    "\n",
    "extern \"C\" {\n",
    "void add_seven(std::size_t array_size, double *in, double *out);\n",
    "}\n",
    "\n",
    "#endif //CXX_LIBRARY_TESTS_ARRAY_SEVEN_H\n"
   ]
  },
  {
   "cell_type": "code",
   "execution_count": null,
   "id": "39770d21-8f9d-4d41-9ee1-543cb5efe55e",
   "metadata": {},
   "outputs": [],
   "source": [
    "#include \"array_seven.h\"\n",
    "\n",
    "void add_seven(std::size_t array_size, double *in, double *out) {\n",
    "    for (size_t i = 0; i < array_size; ++i) {\n",
    "        out[i] = in[i] + 7.0;\n",
    "    }\n",
    "}\n"
   ]
  }
 ],
 "metadata": {
  "kernelspec": {
   "display_name": "Python 3 (ipykernel)",
   "language": "python",
   "name": "python3"
  },
  "language_info": {
   "codemirror_mode": {
    "name": "ipython",
    "version": 3
   },
   "file_extension": ".py",
   "mimetype": "text/x-python",
   "name": "python",
   "nbconvert_exporter": "python",
   "pygments_lexer": "ipython3",
   "version": "3.12.2"
  }
 },
 "nbformat": 4,
 "nbformat_minor": 5
}
