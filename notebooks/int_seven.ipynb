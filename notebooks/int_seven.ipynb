{
 "cells": [
  {
   "cell_type": "code",
   "execution_count": null,
   "id": "60f4d354-a1e3-4077-bda4-ead965ee9913",
   "metadata": {},
   "outputs": [],
   "source": [
    "from ctypes import cdll, c_int\n",
    "my_lib = cdll.LoadLibrary(\"/path/to/int_seven.so\")"
   ]
  },
  {
   "cell_type": "code",
   "execution_count": null,
   "id": "101695ab-386b-4c10-83a1-1f23192921d3",
   "metadata": {},
   "outputs": [],
   "source": [
    "add_seven = my_lib.add_seven\n",
    "add_seven.restype = c_int\n",
    "add_seven.argtypes = [c_int]"
   ]
  },
  {
   "cell_type": "code",
   "execution_count": null,
   "id": "e348539e-be52-46f4-af73-19ca9f341d3b",
   "metadata": {},
   "outputs": [],
   "source": [
    "add_seven(0)"
   ]
  },
  {
   "cell_type": "code",
   "execution_count": null,
   "id": "cc8cf37f-2eee-41be-96f2-141ad0800b49",
   "metadata": {},
   "outputs": [],
   "source": [
    "#ifndef CXX_LIBRARY_TESTS_INT_SEVEN_H\n",
    "#define CXX_LIBRARY_TESTS_INT_SEVEN_H\n",
    "\n",
    "extern \"C\" {\n",
    "int add_seven(int);\n",
    "}\n",
    "#endif //CXX_LIBRARY_TESTS_INT_SEVEN_H\n"
   ]
  },
  {
   "cell_type": "code",
   "execution_count": null,
   "id": "225a5631-87dd-4ad7-a556-eae90cb4a929",
   "metadata": {},
   "outputs": [],
   "source": [
    "#include \"int_seven.h\"\n",
    "\n",
    "int add_seven(int to_add) {\n",
    "    return to_add + 7;\n",
    "}"
   ]
  }
 ],
 "metadata": {
  "kernelspec": {
   "display_name": "Python 3 (ipykernel)",
   "language": "python",
   "name": "python3"
  },
  "language_info": {
   "codemirror_mode": {
    "name": "ipython",
    "version": 3
   },
   "file_extension": ".py",
   "mimetype": "text/x-python",
   "name": "python",
   "nbconvert_exporter": "python",
   "pygments_lexer": "ipython3",
   "version": "3.12.2"
  }
 },
 "nbformat": 4,
 "nbformat_minor": 5
}
