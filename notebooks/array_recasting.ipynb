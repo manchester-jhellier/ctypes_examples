{
 "cells": [
  {
   "cell_type": "code",
   "execution_count": null,
   "id": "f2ba4ef8-ff74-416d-bfad-6c77a1732458",
   "metadata": {},
   "outputs": [],
   "source": [
    "from ctypes import cdll, c_size_t, c_double, POINTER, Structure, byref\n",
    "from numpy.ctypeslib import as_ctypes\n",
    "import numpy as np\n",
    "\n",
    "my_lib = cdll.LoadLibrary(\"/path/to/array_recasting.so\")\n",
    "\n",
    "class CLikeArray(Structure):\n",
    "    _fields_ = [(\"num_vecs\", c_size_t), (\"x\", POINTER(c_double))]\n",
    "\n",
    "    def __init__(self, num_vecs: int, x: np.array):\n",
    "        self.num_vecs = num_vecs\n",
    "        self._x = x\n",
    "        self.x = as_ctypes(self._x.reshape([-1]))"
   ]
  },
  {
   "cell_type": "code",
   "execution_count": null,
   "id": "f3461756-8da8-4c63-84ea-b16d77724a48",
   "metadata": {},
   "outputs": [],
   "source": [
    "add = my_lib.array_sum\n",
    "add.restype = None\n",
    "add.argtypes = [POINTER(CLikeArray), POINTER(CLikeArray), POINTER(CLikeArray)]"
   ]
  },
  {
   "cell_type": "code",
   "execution_count": null,
   "id": "68eeafcf-2f8c-4f5c-8df9-3c49611b5087",
   "metadata": {},
   "outputs": [],
   "source": [
    "array_length = 20;\n",
    "input_array_x = np.linspace(np.array([-0.5, 0.0, 0.1]), np.array([0.5, 10.0, 0.3]), array_length)\n",
    "input_array_y = np.linspace(np.array([-0.5, 0.0, 0.1]), np.array([0.5, -10.0, -0.3]), array_length)\n",
    "output_array = np.zeros_like(input_array_x)\n",
    "\n",
    "in_x = CLikeArray(array_length, input_array_x)\n",
    "in_y = CLikeArray(array_length, input_array_y)\n",
    "out = CLikeArray(array_length, output_array)"
   ]
  },
  {
   "cell_type": "code",
   "execution_count": null,
   "id": "680a237a-b9de-493f-b48f-dbcab0a063aa",
   "metadata": {},
   "outputs": [],
   "source": [
    "add(byref(in_x), byref(in_y), byref(out))"
   ]
  },
  {
   "cell_type": "code",
   "execution_count": null,
   "id": "70120794-a83c-4359-b936-97519a50b27e",
   "metadata": {},
   "outputs": [],
   "source": [
    "out._x"
   ]
  },
  {
   "cell_type": "code",
   "execution_count": null,
   "id": "7ab7aa49-bb8e-4800-9d2e-589593e5ada8",
   "metadata": {},
   "outputs": [],
   "source": [
    "in_x._x + in_y._x"
   ]
  },
  {
   "cell_type": "code",
   "execution_count": null,
   "id": "1cf1007b-9a74-4c7f-9240-f48326d8e7d2",
   "metadata": {},
   "outputs": [],
   "source": [
    "#ifndef CXX_LIBRARY_TESTS_ARRAY_RECASTING_H\n",
    "#define CXX_LIBRARY_TESTS_ARRAY_RECASTING_H\n",
    "\n",
    "#include <vector>\n",
    "#include <array>\n",
    "\n",
    "extern \"C\" {\n",
    "struct CLikeArray {\n",
    "    std::size_t num_vecs;\n",
    "    double *x;\n",
    "};\n",
    "}\n",
    "\n",
    "class VectorStorer {\n",
    "public:\n",
    "    std::size_t num_vecs;\n",
    "    std::vector <std::array<double, 3>> x;\n",
    "    explicit VectorStorer(std::size_t n);\n",
    "    explicit VectorStorer(CLikeArray &c_like_array);\n",
    "    void copy_into_array(CLikeArray &c_like_array);\n",
    "    static VectorStorer from_array(CLikeArray &c_like_array);\n",
    "};\n",
    "\n",
    "extern \"C\" {\n",
    "void vec_store_sum(VectorStorer &in_x, VectorStorer &in_y, VectorStorer &out);\n",
    "void array_sum(CLikeArray &x_in, CLikeArray &y_in, CLikeArray &out);\n",
    "}\n",
    "\n",
    "#endif //CXX_LIBRARY_TESTS_ARRAY_RECASTING_H\n"
   ]
  },
  {
   "cell_type": "code",
   "execution_count": null,
   "id": "f7fd0508-218d-4ae1-8d27-ab8e037e7b92",
   "metadata": {},
   "outputs": [],
   "source": [
    "#include \"array_recasting.h\"\n",
    "\n",
    "VectorStorer::VectorStorer(std::size_t n) {\n",
    "    num_vecs = n;\n",
    "    for (int i = 0; i < num_vecs; ++i) {\n",
    "        x.push_back({0.0, 0.0, 0.0});\n",
    "    }\n",
    "}\n",
    "\n",
    "VectorStorer::VectorStorer(CLikeArray &c_like_array) {\n",
    "    num_vecs = c_like_array.num_vecs;\n",
    "    x = std::vector<std::array<double, 3 >>(reinterpret_cast<std::array<double, 3> *>(c_like_array.x),\n",
    "                                            reinterpret_cast<std::array<double, 3> *>(c_like_array.x) + num_vecs);\n",
    "}\n",
    "\n",
    "void VectorStorer::copy_into_array(CLikeArray &c_like_array) {\n",
    "    for (std::size_t i = 0; i < num_vecs; ++i) {\n",
    "        for (std::size_t j = 0; j < 3; ++j) {\n",
    "            c_like_array.x[3 * i + j] = x[i][j];\n",
    "        }\n",
    "    }\n",
    "}\n",
    "\n",
    "VectorStorer VectorStorer::from_array(CLikeArray &c_like_array) {\n",
    "    auto vec_store = VectorStorer(c_like_array.num_vecs);\n",
    "    for (std::size_t i = 0; i < c_like_array.num_vecs; ++i) {\n",
    "        for (std::size_t j = 0; j < 3; ++j) {\n",
    "            vec_store.x[i][j] = c_like_array.x[3 * i + j];\n",
    "        }\n",
    "    }\n",
    "    return vec_store;\n",
    "}\n",
    "\n",
    "void vec_store_sum(VectorStorer &in_x, VectorStorer &in_y, VectorStorer &out) {\n",
    "    for (std::size_t i = 0; i < in_x.num_vecs; ++i) {\n",
    "        for (std::size_t j = 0; j < 3; ++j) {\n",
    "            out.x[i][j] = in_x.x[i][j] + in_y.x[i][j];\n",
    "        }\n",
    "    }\n",
    "}\n",
    "\n",
    "void array_sum(CLikeArray &x_in, CLikeArray &y_in, CLikeArray &out) {\n",
    "    auto u = VectorStorer(x_in);\n",
    "    auto v = VectorStorer(y_in);\n",
    "    auto w = VectorStorer(out);\n",
    "    vec_store_sum(u, v, w);\n",
    "    w.copy_into_array(out);\n",
    "}"
   ]
  }
 ],
 "metadata": {
  "kernelspec": {
   "display_name": "Python 3 (ipykernel)",
   "language": "python",
   "name": "python3"
  },
  "language_info": {
   "codemirror_mode": {
    "name": "ipython",
    "version": 3
   },
   "file_extension": ".py",
   "mimetype": "text/x-python",
   "name": "python",
   "nbconvert_exporter": "python",
   "pygments_lexer": "ipython3",
   "version": "3.12.2"
  }
 },
 "nbformat": 4,
 "nbformat_minor": 5
}
